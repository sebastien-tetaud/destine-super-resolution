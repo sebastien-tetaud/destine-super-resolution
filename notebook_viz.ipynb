{
 "cells": [
  {
   "cell_type": "code",
   "execution_count": 1,
   "metadata": {},
   "outputs": [],
   "source": [
    "import xarray as xr\n",
    "import torch\n",
    "from xbatcher import BatchGenerator\n",
    "import matplotlib.pyplot as plt\n",
    "from utils.general import load_config\n",
    "import pandas as pd\n",
    "\n",
    "config = load_config()"
   ]
  },
  {
   "cell_type": "code",
   "execution_count": 2,
   "metadata": {},
   "outputs": [],
   "source": [
    "data = xr.open_dataset(\n",
    "    config[\"dataset\"][\"hr_zarr_url\"],\n",
    "    engine=\"zarr\", storage_options={\"client_kwargs\": {\"trust_env\": \"true\"}},\n",
    "    chunks={})\n",
    "start_date = \"2025-03-01\"\n",
    "end_date = \"2025-03-14\"\n",
    "latitude_range = tuple(config[\"dataset\"][\"latitude_range\"])\n",
    "longitude_range = tuple(config[\"dataset\"][\"longitude_range\"])\n",
    "hr_data = data.sel(latitude=slice(latitude_range[0],latitude_range[1]),\n",
    "                longitude=slice(longitude_range[0],longitude_range[1]),\n",
    "                time=slice(start_date, end_date))\n",
    "\n",
    "data_vars = list(hr_data.data_vars)"
   ]
  },
  {
   "cell_type": "code",
   "execution_count": 3,
   "metadata": {},
   "outputs": [],
   "source": [
    "hr_data"
   ]
  },
  {
   "cell_type": "markdown",
   "metadata": {},
   "source": [
    "# Benchmark"
   ]
  },
  {
   "cell_type": "code",
   "execution_count": 4,
   "metadata": {},
   "outputs": [],
   "source": [
    "import time\n",
    "import matplotlib.pyplot as plt\n",
    "import numpy as np"
   ]
  },
  {
   "cell_type": "code",
   "execution_count": null,
   "metadata": {},
   "outputs": [],
   "source": [
    "num_trials = 10  # Number of repetitions\n",
    "num_vars_list = []\n",
    "time_avg_list = []\n",
    "time_std_list = []\n",
    "size_data = []\n",
    "batch = 64\n",
    "for num_vars in range(1, 10):\n",
    "\n",
    "    data = xr.open_dataset(\n",
    "    config[\"dataset\"][\"hr_zarr_url\"],\n",
    "    engine=\"zarr\", storage_options={\"client_kwargs\": {\"trust_env\": \"true\"}},\n",
    "    chunks={})\n",
    "    data_vars = list(data.data_vars)\n",
    "    start_date = \"2025-03-01\"\n",
    "    end_date = \"2025-03-05\"\n",
    "    latitude_range = tuple(config[\"dataset\"][\"latitude_range\"])\n",
    "    longitude_range = tuple(config[\"dataset\"][\"longitude_range\"])\n",
    "    data = data.sel(time=slice(start_date, end_date))\n",
    "    data = data.sel(latitude=slice(latitude_range[0],latitude_range[1]),\n",
    "                    longitude=slice(longitude_range[0],longitude_range[1]))\n",
    "\n",
    "    selected_vars = data_vars[:num_vars]\n",
    "\n",
    "    hr_data_subset = data[selected_vars]  # Subset dataset\n",
    "    batch_generator_hr = BatchGenerator(hr_data_subset, input_dims={\n",
    "        \"time\": batch,\n",
    "        \"latitude\": hr_data_subset.sizes[\"latitude\"],\n",
    "        \"longitude\": hr_data_subset.sizes[\"longitude\"]\n",
    "    })\n",
    "\n",
    "    times = []\n",
    "\n",
    "    for _ in range(num_trials):  # Run multiple trials\n",
    "        start_time = time.time()\n",
    "\n",
    "        for batch in batch_generator_hr:\n",
    "\n",
    "            data_batch = batch.load()\n",
    "\n",
    "        elapsed_time = time.time() - start_time\n",
    "        times.append(elapsed_time)\n",
    "        size = data_batch.nbytes / (1024*1024)\n",
    "        print(size)\n",
    "\n",
    "        data_batch = 0\n",
    "\n",
    "    avg_time = np.mean(times)\n",
    "    std_time = np.std(times)\n",
    "\n",
    "    num_vars_list.append(num_vars)\n",
    "    time_avg_list.append(avg_time)\n",
    "    time_std_list.append(std_time)\n",
    "    size_data.append(size)\n",
    "    print(f\"Num Vars: {num_vars}, Avg Time: {avg_time:.4f} sec, Std Dev: {std_time:.4f} sec\")"
   ]
  },
  {
   "cell_type": "code",
   "execution_count": null,
   "metadata": {},
   "outputs": [],
   "source": [
    "# Plot the results with error bars\n",
    "plt.figure(figsize=(8, 5))\n",
    "plt.errorbar(num_vars_list, time_avg_list, yerr=time_std_list, fmt='-o', capsize=4, label=\"Avg Time ± Std Dev\")\n",
    "plt.xlabel(\"Number of Data Variables\")\n",
    "plt.ylabel(\"Time to Load (seconds)\")\n",
    "plt.title(\"Time to Load vs Number of Data Variables\")\n",
    "plt.grid()\n",
    "plt.legend()\n",
    "plt.savefig(\"load_vs_parameters.png\")\n",
    "plt.show()"
   ]
  },
  {
   "cell_type": "code",
   "execution_count": null,
   "metadata": {},
   "outputs": [],
   "source": [
    "max_bandwidth_Mbps = 25000\n",
    "df = pd.DataFrame(data={\"climate_variables\":num_vars_list,\n",
    "                        \"time_avg\":time_avg_list,\n",
    "                        \"time_std\":time_std_list,\n",
    "                        \"size_data\":size_data})\n",
    "\n",
    "df[\"batch\"] = 64\n",
    "df[\"fps\"] = (df['climate_variables'] *  df[\"batch\"] / df[\"time_avg\"])\n",
    "df['bandwidth_MBps'] = df['size_data'] / df[\"time_avg\"]\n",
    "df['bandwidth_Mbps'] = df['size_data'] / df[\"time_avg\"] * 8\n",
    "df['max_bandwidth_Mbps'] = max_bandwidth_Mbps"
   ]
  },
  {
   "cell_type": "code",
   "execution_count": null,
   "metadata": {},
   "outputs": [],
   "source": [
    "df[\"max_fps\"] = df['max_bandwidth_Mbps'] * df[\"fps\"] / df['bandwidth_Mbps']"
   ]
  },
  {
   "cell_type": "code",
   "execution_count": null,
   "metadata": {},
   "outputs": [],
   "source": [
    "df"
   ]
  },
  {
   "cell_type": "markdown",
   "metadata": {},
   "source": [
    "## Generate Animation at Netflix speed"
   ]
  },
  {
   "cell_type": "code",
   "execution_count": 17,
   "metadata": {},
   "outputs": [],
   "source": [
    "data = xr.open_dataset(\n",
    "    config[\"dataset\"][\"hr_zarr_url\"],\n",
    "    engine=\"zarr\", storage_options={\"client_kwargs\": {\"trust_env\": \"true\"}},\n",
    "    chunks={})\n",
    "start_date = \"2025-03-01\"\n",
    "end_date = \"2025-03-15\"\n",
    "latitude_range = tuple(config[\"dataset\"][\"latitude_range\"])\n",
    "longitude_range = tuple(config[\"dataset\"][\"longitude_range\"])\n",
    "hr_data = data.sel(latitude=slice(latitude_range[0],latitude_range[1]),\n",
    "                longitude=slice(longitude_range[0],longitude_range[1]),\n",
    "                time=slice(start_date, end_date))\n",
    "\n",
    "data_vars = list(hr_data.data_vars)\n",
    "\n",
    "hr_data"
   ]
  },
  {
   "cell_type": "markdown",
   "metadata": {},
   "source": [
    "## Basic Viz"
   ]
  },
  {
   "cell_type": "code",
   "execution_count": 18,
   "metadata": {},
   "outputs": [],
   "source": [
    "import os\n",
    "import yaml\n",
    "from IPython.display import HTML\n",
    "from loguru import logger\n",
    "from matplotlib.animation import FuncAnimation\n",
    "import cartopy.feature as cfeature\n",
    "import matplotlib.pyplot as plt\n",
    "import cartopy.crs as ccrs\n",
    "import numpy as np\n",
    "import re"
   ]
  },
  {
   "cell_type": "code",
   "execution_count": 19,
   "metadata": {},
   "outputs": [],
   "source": [
    "def find_coord_name(coord_names, pattern):\n",
    "    \"\"\"\n",
    "    Function to find coordinate names using regex.\n",
    "    \"\"\"\n",
    "    for name in coord_names:\n",
    "        if pattern.search(name):\n",
    "            return name\n",
    "    return None\n",
    "\n",
    "\n",
    "class Visualizer:\n",
    "\n",
    "    @staticmethod\n",
    "    def get_metadata(data):\n",
    "        \"\"\"\n",
    "        Extract relevant metadata (title, unit, colorbar label) from dataset attributes.\n",
    "        \"\"\"\n",
    "        long_name = data.attrs.get(\"long_name\", \"Unknown Variable\")\n",
    "        standard_name = data.attrs.get(\"standard_name\", long_name)\n",
    "        units = data.attrs.get(\"units\", \"\")\n",
    "        title = f\"{long_name} ({units})\" if units else long_name\n",
    "        colorbar_label = f\"{standard_name} [{units}]\" if units else standard_name\n",
    "        return title, colorbar_label\n",
    "\n",
    "\n",
    "    @staticmethod\n",
    "    def generate_animation(data, cmap=\"YlOrRd\", show_coastlines=True, fps=30):\n",
    "        \"\"\"\n",
    "        Generate an animation with a customizable FPS.\n",
    "\n",
    "        Parameters:\n",
    "        - data: xarray DataArray to animate\n",
    "        - cmap: Colormap for visualization (default: 'YlOrRd')\n",
    "        - show_coastlines: Show/hide coastlines (default: True)\n",
    "        - fps: Frames per second for the animation (default: 30)\n",
    "        \"\"\"\n",
    "        lat_pattern = re.compile(r'lat(itude)?', re.IGNORECASE)\n",
    "        lon_pattern = re.compile(r'lon(gitude)?', re.IGNORECASE)\n",
    "        coord_names = data.coords.keys()\n",
    "\n",
    "        lat_name = find_coord_name(coord_names, lat_pattern)\n",
    "        lon_name = find_coord_name(coord_names, lon_pattern)\n",
    "\n",
    "        if lat_name is None or lon_name is None:\n",
    "            raise ValueError(\"Latitude and/or Longitude coordinates not found.\")\n",
    "\n",
    "        title, colorbar_label = Visualizer.get_metadata(data)\n",
    "\n",
    "        fig = plt.figure(figsize=(19.2, 10.8), dpi=100)  # Keep consistent 1080p resolution\n",
    "        ax = plt.axes(projection=ccrs.PlateCarree())\n",
    "\n",
    "        if show_coastlines:\n",
    "            ax.add_feature(cfeature.COASTLINE, linewidth=0.5)\n",
    "            ax.add_feature(cfeature.BORDERS, linewidth=0.5)\n",
    "            ax.add_feature(cfeature.LAND)\n",
    "\n",
    "        heatmap = ax.pcolormesh(data[lon_name], data[lat_name], data.isel(time=0),\n",
    "                                cmap=cmap, transform=ccrs.PlateCarree())\n",
    "\n",
    "        # Set axis limits to match data\n",
    "        ax.set_xlim([data[lon_name].min(), data[lon_name].max()])\n",
    "        ax.set_ylim([data[lat_name].min(), data[lat_name].max()])\n",
    "\n",
    "        # Align colorbar width with heatmap\n",
    "        pos = ax.get_position()\n",
    "        cbar_ax = fig.add_axes([pos.x0, pos.y0 - 0.05, pos.width, 0.02])\n",
    "        cbar = fig.colorbar(heatmap, cax=cbar_ax, orientation='horizontal')\n",
    "        cbar.set_label(colorbar_label)\n",
    "        ax.set_title(title)\n",
    "\n",
    "        mesh = ax.pcolormesh(data[lon_name], data[lat_name], data.isel(time=0),\n",
    "                             cmap=cmap, transform=ccrs.PlateCarree())\n",
    "\n",
    "        def update(frame):\n",
    "            time_str = np.datetime_as_string(data.time[frame].values, unit='h')\n",
    "            mesh.set_array(data.isel(time=frame).values.flatten())\n",
    "            ax.set_title(f\"{title} - {time_str}\")\n",
    "            return mesh,\n",
    "\n",
    "        interval = 1000 / fps  # Convert FPS to milliseconds\n",
    "        animation = FuncAnimation(fig, update, frames=len(data.time), interval=interval, blit=True)\n",
    "\n",
    "        plt.close()\n",
    "        return animation, HTML(animation.to_html5_video())"
   ]
  },
  {
   "cell_type": "code",
   "execution_count": 20,
   "metadata": {},
   "outputs": [],
   "source": [
    "data = hr_data['v10'].load()"
   ]
  },
  {
   "cell_type": "code",
   "execution_count": null,
   "metadata": {},
   "outputs": [],
   "source": [
    "animation, video = Visualizer.generate_animation(hr_data['v10'].load(), cmap=\"Blues\", show_coastlines=True, fps=20)"
   ]
  },
  {
   "cell_type": "code",
   "execution_count": 15,
   "metadata": {},
   "outputs": [],
   "source": [
    "video"
   ]
  },
  {
   "cell_type": "code",
   "execution_count": 13,
   "metadata": {},
   "outputs": [],
   "source": [
    "animation.save('v10_20fps.mp4', writer='ffmpeg', fps=20)"
   ]
  },
  {
   "cell_type": "markdown",
   "metadata": {},
   "source": [
    "## Transform *.mp4 to *.gif"
   ]
  },
  {
   "cell_type": "code",
   "execution_count": null,
   "metadata": {},
   "outputs": [],
   "source": [
    "from moviepy import *\n",
    "import os\n",
    "\n",
    "directory_path = '/home/ubuntu/project/destine-super-resolution/'\n",
    "\n",
    "# List all MP4 files in the directory\n",
    "mp4_files = [f for f in os.listdir(directory_path) if f.endswith('.mp4')]\n",
    "print(\"MP4 files in the directory:\")\n",
    "\n",
    "for mp4_file in mp4_files:\n",
    "    # Load the video file\n",
    "    video = VideoFileClip(mp4_file)\n",
    "\n",
    "    # Define the output GIF file path\n",
    "    gif_file = mp4_file.replace('.mp4', '.gif')\n",
    "\n",
    "    # Write the video to a GIF file\n",
    "    video.write_gif(gif_file, fps=30)  # You can adjust the fps as needed"
   ]
  }
 ],
 "metadata": {
  "kernelspec": {
   "display_name": "exp",
   "language": "python",
   "name": "python3"
  },
  "language_info": {
   "codemirror_mode": {
    "name": "ipython",
    "version": 3
   },
   "file_extension": ".py",
   "mimetype": "text/x-python",
   "name": "python",
   "nbconvert_exporter": "python",
   "pygments_lexer": "ipython3",
   "version": "3.12.2"
  }
 },
 "nbformat": 4,
 "nbformat_minor": 2
}
