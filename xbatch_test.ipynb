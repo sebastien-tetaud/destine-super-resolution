{
 "cells": [
  {
   "cell_type": "code",
   "execution_count": 1,
   "metadata": {},
   "outputs": [],
   "source": [
    "import xarray as xr\n",
    "import torch\n",
    "from torch.utils.data import DataLoader\n",
    "from xbatcher import BatchGenerator\n",
    "\n",
    "import matplotlib.pyplot as plt\n",
    "from utils.general import load_config\n",
    "\n",
    "config = load_config()"
   ]
  },
  {
   "cell_type": "code",
   "execution_count": 2,
   "metadata": {},
   "outputs": [
    {
     "data": {
      "text/plain": [
       "{'model': {'architecture': 'SRResNet',\n",
       "  'large_kernel_size': 9,\n",
       "  'small_kernel_size': 3,\n",
       "  'n_channels': 64,\n",
       "  'n_blocks': 16,\n",
       "  'scaling_factor': 8},\n",
       " 'training': {'streaming': False,\n",
       "  'learning_rate': 0.01,\n",
       "  'batch_size': 32,\n",
       "  'epochs': 100,\n",
       "  'optimizer': 'Adam',\n",
       "  'loss_function': 'mse_loss',\n",
       "  'devices': [0],\n",
       "  'accelerator': 'gpu',\n",
       "  'deterministic': True,\n",
       "  'seed': 42},\n",
       " 'dataset': {'hr_zarr_url': 'https://cacheb.dcms.destine.eu/d1-climate-dt/ScenarioMIP-SSP3-7.0-IFS-NEMO-0001-high-sfc-v0.zarr',\n",
       "  'lr_zarr_url': 'https://cacheb.dcms.destine.eu/d1-climate-dt/ScenarioMIP-SSP3-7.0-IFS-NEMO-0001-standard-sfc-v0.zarr',\n",
       "  'time_range': '2024-10',\n",
       "  'start_date': '2020-01-01',\n",
       "  'end_date': '2020-01-10',\n",
       "  'latitude_range': [35.0, 71.0],\n",
       "  'longitude_range': [-25.0, 40.0],\n",
       "  'data_variable': ['t2m'],\n",
       "  'data_target': ['t2m'],\n",
       "  'unit': 'Temperature (C)'},\n",
       " 'validation': {'val_split_ratio': 0.3},\n",
       " 'checkpoint': {'monitor': 'val_ssim',\n",
       "  'mode': 'max',\n",
       "  'filename': 'best-val-ssim-{epoch:02d}-{val_ssim:.2f}',\n",
       "  'save_top_k': 1},\n",
       " 'visualization': {'color_map': 'YlOrRd'}}"
      ]
     },
     "execution_count": 2,
     "metadata": {},
     "output_type": "execute_result"
    }
   ],
   "source": [
    "config"
   ]
  },
  {
   "cell_type": "code",
   "execution_count": 3,
   "metadata": {},
   "outputs": [],
   "source": [
    "\n",
    "start_date = config['dataset']['start_date']\n",
    "end_date = config['dataset']['end_date']\n",
    "data_vars = config['dataset']['data_variable']\n",
    "data = xr.open_dataset(\n",
    "    config[\"dataset\"][\"hr_zarr_url\"],\n",
    "    engine=\"zarr\", storage_options={\"client_kwargs\": {\"trust_env\": \"true\"}},\n",
    "    chunks={})\n",
    "\n",
    "\n",
    "latitude_range = tuple(config[\"dataset\"][\"latitude_range\"])\n",
    "longitude_range = tuple(config[\"dataset\"][\"longitude_range\"])\n",
    "data = data.sel(time=slice(start_date, end_date))\n",
    "data = data.sel(latitude=slice(latitude_range[0],latitude_range[1]),\n",
    "                longitude=slice(longitude_range[0],longitude_range[1]),\n",
    "                time=slice(start_date,end_date))"
   ]
  },
  {
   "cell_type": "code",
   "execution_count": 17,
   "metadata": {},
   "outputs": [
    {
     "data": {
      "text/plain": [
       "Frozen({'time': 24, 'latitude': 819, 'longitude': 1479})"
      ]
     },
     "execution_count": 17,
     "metadata": {},
     "output_type": "execute_result"
    }
   ],
   "source": [
    "# data_vars = list(data.data_vars)\n",
    "\n",
    "data = data[data_vars]\n",
    "data.sizes"
   ]
  },
  {
   "cell_type": "code",
   "execution_count": 5,
   "metadata": {},
   "outputs": [
    {
     "data": {
      "text/plain": [
       "819"
      ]
     },
     "execution_count": 5,
     "metadata": {},
     "output_type": "execute_result"
    }
   ],
   "source": [
    "data.sizes['latitude']"
   ]
  },
  {
   "cell_type": "code",
   "execution_count": 6,
   "metadata": {},
   "outputs": [],
   "source": [
    "GPU_DEVICE = 0\n",
    "device = torch.device(\"cuda\",GPU_DEVICE)\n",
    "batch_generator = BatchGenerator(data, input_dims={\"time\": config['training']['batch_size'],\n",
    "                                                   \"latitude\":  data.sizes['latitude'],\n",
    "                                                   \"longitude\": data.sizes['longitude']})"
   ]
  },
  {
   "cell_type": "code",
   "execution_count": 7,
   "metadata": {},
   "outputs": [
    {
     "name": "stdout",
     "output_type": "stream",
     "text": [
      "Frozen({'time': 32, 'latitude': 819, 'longitude': 1479})\n",
      "torch.Size([32, 1, 819, 1479])\n"
     ]
    }
   ],
   "source": [
    "# Iterate through one batch\n",
    "for batch in batch_generator:\n",
    "\n",
    "    data  = batch.load()\n",
    "    print(data.sizes)\n",
    "    data = data.to_array().values\n",
    "    data = torch.tensor(data)\n",
    "    data = torch.permute(data, (1, 0, 2, 3))\n",
    "    print(data.shape)\n",
    "    data.to(device)\n",
    "    break"
   ]
  },
  {
   "cell_type": "markdown",
   "metadata": {},
   "source": [
    "## Benchmark"
   ]
  },
  {
   "cell_type": "code",
   "execution_count": 8,
   "metadata": {},
   "outputs": [],
   "source": [
    "import xarray as xr\n",
    "import time\n",
    "import numpy as np\n",
    "from xbatcher import BatchGenerator\n",
    "from utils.general import load_config\n",
    "\n",
    "config = load_config()"
   ]
  },
  {
   "cell_type": "code",
   "execution_count": 19,
   "metadata": {},
   "outputs": [
    {
     "name": "stdout",
     "output_type": "stream",
     "text": [
      "['blh']\n",
      "Frozen({'time': 8, 'latitude': 819, 'longitude': 1479})\n",
      "Num Vars: 1, Avg Time: 4.2866 sec, Std Dev: 0.3584 sec\n",
      "['blh', 'chnk']\n",
      "Frozen({'time': 8, 'latitude': 819, 'longitude': 1479})\n",
      "Num Vars: 2, Avg Time: 7.0937 sec, Std Dev: 0.6212 sec\n",
      "['blh', 'chnk', 'd2m']\n",
      "Frozen({'time': 8, 'latitude': 819, 'longitude': 1479})\n",
      "Num Vars: 3, Avg Time: 9.4700 sec, Std Dev: 0.4238 sec\n",
      "['blh', 'chnk', 'd2m', 'e']\n",
      "Frozen({'time': 8, 'latitude': 819, 'longitude': 1479})\n",
      "Num Vars: 4, Avg Time: 13.6715 sec, Std Dev: 0.9618 sec\n",
      "['blh', 'chnk', 'd2m', 'e', 'ewss']\n",
      "Frozen({'time': 8, 'latitude': 819, 'longitude': 1479})\n",
      "Num Vars: 5, Avg Time: 17.1056 sec, Std Dev: 0.5566 sec\n",
      "['blh', 'chnk', 'd2m', 'e', 'ewss', 'hcc']\n",
      "Frozen({'time': 8, 'latitude': 819, 'longitude': 1479})\n",
      "Num Vars: 6, Avg Time: 19.9192 sec, Std Dev: 0.7452 sec\n",
      "['blh', 'chnk', 'd2m', 'e', 'ewss', 'hcc', 'lcc']\n",
      "Frozen({'time': 8, 'latitude': 819, 'longitude': 1479})\n",
      "Num Vars: 7, Avg Time: 22.6155 sec, Std Dev: 0.5510 sec\n",
      "['blh', 'chnk', 'd2m', 'e', 'ewss', 'hcc', 'lcc', 'mcc']\n",
      "Frozen({'time': 8, 'latitude': 819, 'longitude': 1479})\n",
      "Num Vars: 8, Avg Time: 25.1153 sec, Std Dev: 0.4990 sec\n",
      "['blh', 'chnk', 'd2m', 'e', 'ewss', 'hcc', 'lcc', 'mcc', 'msl']\n",
      "Frozen({'time': 8, 'latitude': 819, 'longitude': 1479})\n",
      "Num Vars: 9, Avg Time: 26.9513 sec, Std Dev: 0.2414 sec\n"
     ]
    }
   ],
   "source": [
    "import time\n",
    "import numpy as np\n",
    "import xarray as xr\n",
    "\n",
    "num_trials = 10  # Number of repetitions\n",
    "batch = 8\n",
    "\n",
    "# Open dataset once\n",
    "data = xr.open_dataset(\n",
    "    config[\"dataset\"][\"hr_zarr_url\"],\n",
    "    engine=\"zarr\", storage_options={\"client_kwargs\": {\"trust_env\": \"true\"}},\n",
    "    chunks={}\n",
    ")\n",
    "data = data.sel(\n",
    "    time=slice(\"2025-03-01\", \"2025-03-01\"),\n",
    "    latitude=slice(*config[\"dataset\"][\"latitude_range\"]),\n",
    "    longitude=slice(*config[\"dataset\"][\"longitude_range\"])\n",
    ")\n",
    "\n",
    "data_vars = list(data.data_vars)  # List of available variables\n",
    "\n",
    "num_vars_list = []\n",
    "time_avg_list = []\n",
    "time_std_list = []\n",
    "size_data = []\n",
    "\n",
    "for num_vars in range(1, min(len(data_vars), 10)):  # Avoid index error\n",
    "    selected_vars = data_vars[:num_vars]  # Select `num_vars` variables\n",
    "    hr_data_subset = data[selected_vars]\n",
    "    print(selected_vars)\n",
    "\n",
    "    batch_generator_hr = BatchGenerator(hr_data_subset, input_dims={\n",
    "        \"time\": batch,\n",
    "        \"latitude\": hr_data_subset.sizes[\"latitude\"],\n",
    "        \"longitude\": hr_data_subset.sizes[\"longitude\"]\n",
    "    })\n",
    "\n",
    "    times = []\n",
    "\n",
    "    for _ in range(num_trials):  # Run multiple trials\n",
    "        start_time = time.time()\n",
    "\n",
    "        for batch_data in batch_generator_hr:\n",
    "            data_batch = batch_data.load()\n",
    "\n",
    "        elapsed_time = time.time() - start_time\n",
    "        times.append(elapsed_time)\n",
    "\n",
    "        size = data_batch.nbytes / (1024 * 1024)  # Size in MB\n",
    "    print(data_batch.sizes)\n",
    "    avg_time = np.mean(times)\n",
    "    std_time = np.std(times)\n",
    "\n",
    "    num_vars_list.append(num_vars)\n",
    "    time_avg_list.append(avg_time)\n",
    "    time_std_list.append(std_time)\n",
    "    size_data.append(size)\n",
    "\n",
    "    print(f\"Num Vars: {num_vars}, Avg Time: {avg_time:.4f} sec, Std Dev: {std_time:.4f} sec\")\n"
   ]
  },
  {
   "cell_type": "code",
   "execution_count": 20,
   "metadata": {},
   "outputs": [
    {
     "data": {
      "image/png": "[encoded data removed]",
      "text/plain": [
       "<Figure size 800x500 with 1 Axes>"
      ]
     },
     "metadata": {},
     "output_type": "display_data"
    }
   ],
   "source": [
    "# Plot the results with error bars\n",
    "plt.figure(figsize=(8, 5))\n",
    "plt.errorbar(num_vars_list, time_avg_list, yerr=time_std_list, fmt='-o', capsize=4, label=\"Avg Time ± Std Dev\")\n",
    "plt.xlabel(\"Number of Data Variables\")\n",
    "plt.ylabel(\"Time to Load (seconds)\")\n",
    "plt.title(\"Time to Load vs Number of Data Variables\")\n",
    "plt.grid()\n",
    "plt.legend()\n",
    "plt.savefig(\"load_vs_parameters.png\")\n",
    "plt.show()"
   ]
  },
  {
   "cell_type": "code",
   "execution_count": 21,
   "metadata": {},
   "outputs": [],
   "source": [
    "import pandas as pd\n",
    "\n",
    "\n",
    "max_bandwidth_Mbps = 25000\n",
    "df = pd.DataFrame(data={\"climate_variables\":num_vars_list,\n",
    "                        \"time_avg\":time_avg_list,\n",
    "                        \"time_std\":time_std_list,\n",
    "                        \"size_data\":size_data})\n",
    "\n",
    "df[\"batch\"] = 64\n",
    "df[\"fps\"] = (df['climate_variables'] *  df[\"batch\"] / df[\"time_avg\"])\n",
    "df['bandwidth_MBps'] = df['size_data'] / df[\"time_avg\"]\n",
    "df['bandwidth_Mbps'] = df['size_data'] / df[\"time_avg\"] * 8\n",
    "df['max_bandwidth_Mbps'] = max_bandwidth_Mbps\n",
    "df[\"max_fps\"] = df['max_bandwidth_Mbps'] * df[\"fps\"] / df['bandwidth_Mbps']\n",
    "df[\"max_fps\"] = df['max_bandwidth_Mbps'] * df[\"fps\"] / df['bandwidth_Mbps']"
   ]
  },
  {
   "cell_type": "code",
   "execution_count": 23,
   "metadata": {},
   "outputs": [
    {
     "data": {
      "text/html": [
       "<div>\n",
       "<style scoped>\n",
       "    .dataframe tbody tr th:only-of-type {\n",
       "        vertical-align: middle;\n",
       "    }\n",
       "\n",
       "    .dataframe tbody tr th {\n",
       "        vertical-align: top;\n",
       "    }\n",
       "\n",
       "    .dataframe thead th {\n",
       "        text-align: right;\n",
       "    }\n",
       "</style>\n",
       "<table border=\"1\" class=\"dataframe\">\n",
       "  <thead>\n",
       "    <tr style=\"text-align: right;\">\n",
       "      <th></th>\n",
       "      <th>climate_variables</th>\n",
       "      <th>time_avg</th>\n",
       "      <th>time_std</th>\n",
       "      <th>size_data</th>\n",
       "      <th>batch</th>\n",
       "      <th>fps</th>\n",
       "      <th>bandwidth_MBps</th>\n",
       "      <th>bandwidth_Mbps</th>\n",
       "      <th>max_bandwidth_Mbps</th>\n",
       "      <th>max_fps</th>\n",
       "    </tr>\n",
       "  </thead>\n",
       "  <tbody>\n",
       "    <tr>\n",
       "      <th>0</th>\n",
       "      <td>1</td>\n",
       "      <td>4.286621</td>\n",
       "      <td>0.358385</td>\n",
       "      <td>36.983589</td>\n",
       "      <td>64</td>\n",
       "      <td>14.930175</td>\n",
       "      <td>8.627679</td>\n",
       "      <td>69.021431</td>\n",
       "      <td>25000</td>\n",
       "      <td>5407.803961</td>\n",
       "    </tr>\n",
       "    <tr>\n",
       "      <th>1</th>\n",
       "      <td>2</td>\n",
       "      <td>7.093684</td>\n",
       "      <td>0.621209</td>\n",
       "      <td>73.949562</td>\n",
       "      <td>64</td>\n",
       "      <td>18.044221</td>\n",
       "      <td>10.424705</td>\n",
       "      <td>83.397640</td>\n",
       "      <td>25000</td>\n",
       "      <td>5409.092208</td>\n",
       "    </tr>\n",
       "    <tr>\n",
       "      <th>2</th>\n",
       "      <td>3</td>\n",
       "      <td>9.469954</td>\n",
       "      <td>0.423788</td>\n",
       "      <td>110.915535</td>\n",
       "      <td>64</td>\n",
       "      <td>20.274650</td>\n",
       "      <td>11.712363</td>\n",
       "      <td>93.698901</td>\n",
       "      <td>25000</td>\n",
       "      <td>5409.521760</td>\n",
       "    </tr>\n",
       "    <tr>\n",
       "      <th>3</th>\n",
       "      <td>4</td>\n",
       "      <td>13.671499</td>\n",
       "      <td>0.961809</td>\n",
       "      <td>147.881508</td>\n",
       "      <td>64</td>\n",
       "      <td>18.725087</td>\n",
       "      <td>10.816774</td>\n",
       "      <td>86.534189</td>\n",
       "      <td>25000</td>\n",
       "      <td>5409.736562</td>\n",
       "    </tr>\n",
       "    <tr>\n",
       "      <th>4</th>\n",
       "      <td>5</td>\n",
       "      <td>17.105572</td>\n",
       "      <td>0.556555</td>\n",
       "      <td>184.847481</td>\n",
       "      <td>64</td>\n",
       "      <td>18.707354</td>\n",
       "      <td>10.806273</td>\n",
       "      <td>86.450183</td>\n",
       "      <td>25000</td>\n",
       "      <td>5409.865451</td>\n",
       "    </tr>\n",
       "    <tr>\n",
       "      <th>5</th>\n",
       "      <td>6</td>\n",
       "      <td>19.919157</td>\n",
       "      <td>0.745202</td>\n",
       "      <td>221.813454</td>\n",
       "      <td>64</td>\n",
       "      <td>19.277924</td>\n",
       "      <td>11.135685</td>\n",
       "      <td>89.085477</td>\n",
       "      <td>25000</td>\n",
       "      <td>5409.951381</td>\n",
       "    </tr>\n",
       "    <tr>\n",
       "      <th>6</th>\n",
       "      <td>7</td>\n",
       "      <td>22.615523</td>\n",
       "      <td>0.551030</td>\n",
       "      <td>258.779427</td>\n",
       "      <td>64</td>\n",
       "      <td>19.809403</td>\n",
       "      <td>11.442558</td>\n",
       "      <td>91.540462</td>\n",
       "      <td>25000</td>\n",
       "      <td>5410.012761</td>\n",
       "    </tr>\n",
       "    <tr>\n",
       "      <th>7</th>\n",
       "      <td>8</td>\n",
       "      <td>25.115321</td>\n",
       "      <td>0.498952</td>\n",
       "      <td>295.745399</td>\n",
       "      <td>64</td>\n",
       "      <td>20.385963</td>\n",
       "      <td>11.775497</td>\n",
       "      <td>94.203979</td>\n",
       "      <td>25000</td>\n",
       "      <td>5410.058797</td>\n",
       "    </tr>\n",
       "    <tr>\n",
       "      <th>8</th>\n",
       "      <td>9</td>\n",
       "      <td>26.951331</td>\n",
       "      <td>0.241424</td>\n",
       "      <td>332.711372</td>\n",
       "      <td>64</td>\n",
       "      <td>21.371857</td>\n",
       "      <td>12.344896</td>\n",
       "      <td>98.759167</td>\n",
       "      <td>25000</td>\n",
       "      <td>5410.094603</td>\n",
       "    </tr>\n",
       "  </tbody>\n",
       "</table>\n",
       "</div>"
      ],
      "text/plain": [
       "   climate_variables   time_avg  time_std   size_data  batch        fps  \\\n",
       "0                  1   4.286621  0.358385   36.983589     64  14.930175   \n",
       "1                  2   7.093684  0.621209   73.949562     64  18.044221   \n",
       "2                  3   9.469954  0.423788  110.915535     64  20.274650   \n",
       "3                  4  13.671499  0.961809  147.881508     64  18.725087   \n",
       "4                  5  17.105572  0.556555  184.847481     64  18.707354   \n",
       "5                  6  19.919157  0.745202  221.813454     64  19.277924   \n",
       "6                  7  22.615523  0.551030  258.779427     64  19.809403   \n",
       "7                  8  25.115321  0.498952  295.745399     64  20.385963   \n",
       "8                  9  26.951331  0.241424  332.711372     64  21.371857   \n",
       "\n",
       "   bandwidth_MBps  bandwidth_Mbps  max_bandwidth_Mbps      max_fps  \n",
       "0        8.627679       69.021431               25000  5407.803961  \n",
       "1       10.424705       83.397640               25000  5409.092208  \n",
       "2       11.712363       93.698901               25000  5409.521760  \n",
       "3       10.816774       86.534189               25000  5409.736562  \n",
       "4       10.806273       86.450183               25000  5409.865451  \n",
       "5       11.135685       89.085477               25000  5409.951381  \n",
       "6       11.442558       91.540462               25000  5410.012761  \n",
       "7       11.775497       94.203979               25000  5410.058797  \n",
       "8       12.344896       98.759167               25000  5410.094603  "
      ]
     },
     "execution_count": 23,
     "metadata": {},
     "output_type": "execute_result"
    }
   ],
   "source": [
    "df"
   ]
  }
 ],
 "metadata": {
  "kernelspec": {
   "display_name": "exp",
   "language": "python",
   "name": "python3"
  },
  "language_info": {
   "codemirror_mode": {
    "name": "ipython",
    "version": 3
   },
   "file_extension": ".py",
   "mimetype": "text/x-python",
   "name": "python",
   "nbconvert_exporter": "python",
   "pygments_lexer": "ipython3",
   "version": "3.12.2"
  }
 },
 "nbformat": 4,
 "nbformat_minor": 2
}
