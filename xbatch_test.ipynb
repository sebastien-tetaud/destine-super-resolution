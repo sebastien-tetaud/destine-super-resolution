{
 "cells": [
  {
   "cell_type": "code",
   "execution_count": 2,
   "metadata": {},
   "outputs": [],
   "source": [
    "import xarray as xr\n",
    "import torch\n",
    "from torch.utils.data import DataLoader\n",
    "from xbatcher import BatchGenerator\n",
    "\n",
    "import matplotlib.pyplot as plt\n",
    "from utils.general import load_config\n",
    "\n",
    "config = load_config()"
   ]
  },
  {
   "cell_type": "code",
   "execution_count": null,
   "metadata": {},
   "outputs": [],
   "source": [
    "hr_data = xr.open_dataset(\n",
    "    \"/home/ubuntu/project/destine-super-resolution/ScenarioMIP-SSP3-7.0-IFS-NEMO-0001-high-sfc-v0.zarr\",\n",
    "    engine=\"zarr\",\n",
    "    chunks={})\n",
    "\n",
    "lr_data = xr.open_dataset(\n",
    "    \"/home/ubuntu/project/destine-super-resolution/ScenarioMIP-SSP3-7.0-IFS-NEMO-0001-standard-sfc-v0.zarr\",\n",
    "    engine=\"zarr\",\n",
    "    chunks={})"
   ]
  },
  {
   "cell_type": "code",
   "execution_count": 16,
   "metadata": {},
   "outputs": [],
   "source": [
    "data = xr.open_dataset(\n",
    "    config[\"dataset\"][\"hr_zarr_url\"],\n",
    "    engine=\"zarr\", storage_options={\"client_kwargs\": {\"trust_env\": \"true\"}},\n",
    "    chunks={})\n",
    "\n",
    "\n",
    "start_date = \"2025-03-01\"\n",
    "end_date = \"2025-03-01T15:00:00\"\n",
    "latitude_range = tuple(config[\"dataset\"][\"latitude_range\"])\n",
    "longitude_range = tuple(config[\"dataset\"][\"longitude_range\"])\n",
    "hr_data = data.sel(time=slice(start_date, end_date))\n",
    "hr_data = data.sel(latitude=slice(latitude_range[0],latitude_range[1]),\n",
    "                longitude=slice(longitude_range[0],longitude_range[1]),\n",
    "                time=slice(start_date,end_date))\n",
    "data_vars = list(hr_data.data_vars)\n",
    "\n",
    "hr_data = hr_data['t2m']"
   ]
  },
  {
   "cell_type": "code",
   "execution_count": null,
   "metadata": {},
   "outputs": [],
   "source": [
    "\n",
    "num_trials = 10\n",
    "# Iterate through one batch\n",
    "for _ in range(num_trials):\n",
    "    data = hr_data.load()\n",
    "\n"
   ]
  },
  {
   "cell_type": "code",
   "execution_count": null,
   "metadata": {},
   "outputs": [],
   "source": [
    "hr_data = hr_data[config['dataset']['data_target']]\n",
    "lr_data = lr_data[config['dataset']['data_variable']]"
   ]
  },
  {
   "cell_type": "code",
   "execution_count": null,
   "metadata": {},
   "outputs": [],
   "source": [
    "GPU_DEVICE = 0\n",
    "device = torch.device(\"cuda\",GPU_DEVICE)\n",
    "batch_generator_lr = BatchGenerator(lr_data, input_dims={\"time\": config['training']['batch_size'], \"latitude\":  512, \"longitude\": 1025})\n",
    "batch_generator_hr = BatchGenerator(hr_data, input_dims={\"time\": config['training']['batch_size'], \"latitude\":  512, \"longitude\": 1025})"
   ]
  },
  {
   "cell_type": "code",
   "execution_count": null,
   "metadata": {},
   "outputs": [],
   "source": [
    "\n",
    "# Iterate through one batch\n",
    "for batch in batch_generator_lr:\n",
    "\n",
    "    data  = batch.load()\n",
    "    print(data.sizes)\n",
    "    data = data.to_array().values\n",
    "    data = torch.tensor(data)\n",
    "\n",
    "    data = torch.permute(data, (1, 0, 2, 3))\n",
    "    print(data.shape)\n",
    "    data.to(device)\n",
    "    break"
   ]
  },
  {
   "cell_type": "code",
   "execution_count": null,
   "metadata": {},
   "outputs": [],
   "source": [
    "# cloud based 20.3 s ± 437 ms per loop (mean ± std. dev. of 7 runs, 1 loop each) (24 x 4096 x 8193)\n",
    "# 3.23 s ± 41.1 ms per loop (mean ± std. dev. of 7 runs, 1 loop each) (24 x 4096 x 8193)"
   ]
  },
  {
   "cell_type": "code",
   "execution_count": null,
   "metadata": {},
   "outputs": [],
   "source": [
    "# Iterate through both batch generators together\n",
    "for batch_lr, batch_hr in zip(batch_generator_lr, batch_generator_hr):\n",
    "\n",
    "    # Load LR and HR batches into memory\n",
    "    lr_data = batch_lr.load().to_array().values\n",
    "    hr_data = batch_hr.load().to_array().values\n",
    "\n",
    "    # Convert to PyTorch tensors\n",
    "    lr_tensor = torch.tensor(lr_data, dtype=torch.float32).to(device)\n",
    "    hr_tensor = torch.tensor(hr_data, dtype=torch.float32).to(device)\n",
    "\n",
    "    hr_tensor = torch.permute(hr_tensor, (1, 0, 2, 3))\n",
    "    lr_tensor = torch.permute(lr_tensor, (1, 0, 2, 3))\n",
    "\n",
    "    print(\"LR Batch Shape:\", lr_tensor.shape)  # Expected: (num_vars, batch_size, lat, lon)\n",
    "    print(\"HR Batch Shape:\", hr_tensor.shape)  # Expected: (num_vars, batch_size, lat, lon)\n",
    "\n",
    "    break  # Remove this if you want to iterate through all batches"
   ]
  }
 ],
 "metadata": {
  "kernelspec": {
   "display_name": "exp",
   "language": "python",
   "name": "python3"
  },
  "language_info": {
   "codemirror_mode": {
    "name": "ipython",
    "version": 3
   },
   "file_extension": ".py",
   "mimetype": "text/x-python",
   "name": "python",
   "nbconvert_exporter": "python",
   "pygments_lexer": "ipython3",
   "version": "3.12.2"
  }
 },
 "nbformat": 4,
 "nbformat_minor": 2
}
